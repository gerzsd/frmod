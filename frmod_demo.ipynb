{
 "cells": [
  {
   "cell_type": "markdown",
   "metadata": {},
   "source": [
    "# FRMOD tutorial"
   ]
  },
  {
   "cell_type": "markdown",
   "metadata": {},
   "source": [
    "This notebook is a guide for performing a frequency ratio style landslide susceptibility analysis with the frmod Python package."
   ]
  },
  {
   "cell_type": "markdown",
   "metadata": {},
   "source": [
    "## The frequency ratio analysis in brief\n",
    "The frequency ratio analysis is a probabilistic method for landslide susceptibility assessment. It assumes, that landslide-affected areas in the future will have similar terrain and environmental conditions to the already landslide-affected areas. The inputs of the analysis are the landslide sample areas and the continuous or categorical data layers of the analyzed variables. The method works with raster grids.  \n",
    "The steps of the analysis:  \n",
    "\n",
    "1. Partition the study area into landslide and non-landslide subareas  \n",
    "2. Compute the frequency distribution of the analyzed variables for both areas \n",
    "3. Take the ratio of the landslide and non-landslide frequency distributions - *the frequency ratio* - for each analyzed variable\n",
    "4. Create the **frequency ratio grids**: assign the frequency ratios to the corresponding values of the analyzed variable grids\n",
    "5. Get the landslide **susceptibility grid**: average the **frequency ratio grids**\n",
    "\n",
    "The results are used to make a landslide susceptibility map and are usually shown in a percentile form on the map. *Percentile is a score below which a given percentage of the values fall.*\n",
    "  \n",
    "The **frmod** package is a tool for performing the frequency ratio analysis on raster grids. Let's see how it works!  \n",
    "\n",
    "*You can run the code cells by clicking into them and pressing the play button above or shift+enter. Or you can run the whole notebook by pressing the fast forward button above.*"
   ]
  },
  {
   "cell_type": "markdown",
   "metadata": {},
   "source": [
    "## Setting up the analysis\n",
    "Import numpy, pyplot, and the necessary modules from the frmod package so you can run the analysis.  \n",
    "*Set the random seed to get similar results for every run.*"
   ]
  },
  {
   "cell_type": "code",
   "execution_count": null,
   "metadata": {},
   "outputs": [],
   "source": [
    "import numpy as np\n",
    "import matplotlib.pyplot as plt\n",
    "\n",
    "from frmod.analysis import VRaster, LandslideMask, FRAnalysis, show_grid\n",
    "\n",
    "np.random.seed(2021)\n",
    "\n",
    "print(\"The modules are imported, you are good to go.\")"
   ]
  },
  {
   "cell_type": "markdown",
   "metadata": {},
   "source": [
    "**The analysis needs two types of input variables:**  \n",
    "- the layers to be analyzed, these are loaded in as the **VRasters**\n",
    "- a mask layer that marks the landslide and non-landslide areas, this is the **LandslideMask**  "
   ]
  },
  {
   "cell_type": "markdown",
   "metadata": {},
   "source": [
    "### Importing the data to be analyzed\n",
    "\n",
    "**VRaster** objects store the data related to the analyzed layers (eg. elevation, slope). You have to specify 4 arguments to create a VRaster for the analysis:  \n",
    "- **name** : The name of the VRaster. Eg. *'elevation'*\n",
    "- **path** : Path to the raster grid of the layer. All rasters used in the analysis must be in the same grid system (resolution, cellsize, projection). The layer must be compatible with GDAL, but this should not be an issue for most of the common raster formats. Eg. *'./data/analyzed_layer.sdat'*\n",
    "- **bins** : The non-categorical data will be sorted into this many equal-width categories for the analysis. Eg. *10* \n",
    "- **categorical** : Set it True if the layer is categorical and set it False if the layer is not categorical. Eg. *True*  \n",
    "\n",
    "We'll import three layers: elevation, slope, and geology. Geology is a categorical layer, its values are category IDs not quantities."
   ]
  },
  {
   "cell_type": "code",
   "execution_count": null,
   "metadata": {},
   "outputs": [],
   "source": [
    "elevation = VRaster(name='elevation',\n",
    "                    path='./data/SRTM31_EG_GF_m.sdat',\n",
    "                    bins=50,\n",
    "                    categorical=False)\n",
    "slope = VRaster(name='slope',\n",
    "                path='./data/SRTM31_EG_GF_Slope_m.sdat',\n",
    "                bins=20,\n",
    "                categorical=False)\n",
    "geology = VRaster(name='geology_14',\n",
    "                  path='./data/fdt100_14k.sdat',\n",
    "                  categorical=True)"
   ]
  },
  {
   "cell_type": "markdown",
   "metadata": {},
   "source": [
    "Let's check what we have just imported. The values of the imported layers are stored in the grid property of the VRasters as arrays, eg. *elevation.grid*. The show_grid() is used to plot these grids."
   ]
  },
  {
   "cell_type": "code",
   "execution_count": null,
   "metadata": {},
   "outputs": [],
   "source": [
    "show_grid(elevation.grid, nodata=elevation.nodata, name='Elevation', cmap='terrain')\n",
    "elevation.show_info()"
   ]
  },
  {
   "cell_type": "markdown",
   "metadata": {},
   "source": [
    "### Importing the landslide sample areas  \n",
    "**LandslideMask** objects store the data for the mask. The mask is used to separate the landslide and the non-landslide areas. The splits for the cross-validation are also computed here. *The cross-validation will be explained later in this notebook.*  \n",
    "- **name** : The name of the LandslideMask. Eg. *'scarps'*\n",
    "- **path** : Path to the raster grid of the layer. The same conditions apply as for the VRasters. Eg. *'./data/landslide_layer.sdat'*\n",
    "- **ls_marker** : The value marking the landslide pixels in the mask layer. Eg. *1*  \n",
    "- **nls_marker** : The value marking the landslide pixels in the mask layer. Eg. *0*    \n",
    "- **fold_count** : The number of folds for the cross-validation. Eg. *5*  "
   ]
  },
  {
   "cell_type": "code",
   "execution_count": null,
   "metadata": {},
   "outputs": [],
   "source": [
    "scarps = LandslideMask(name='scarps',\n",
    "                       path='./data/scarps.sdat',\n",
    "                       ls_marker=1,\n",
    "                       fold_count=5)"
   ]
  },
  {
   "cell_type": "markdown",
   "metadata": {},
   "source": [
    "Let's plot the mask. Non-landslide areas are blue and landslide areas are red."
   ]
  },
  {
   "cell_type": "code",
   "execution_count": null,
   "metadata": {},
   "outputs": [],
   "source": [
    "show_grid(scarps.grid, nodata=scarps.nodata, name='The sample landslide areas', cmap='seismic', interpolation='none')"
   ]
  },
  {
   "cell_type": "markdown",
   "metadata": {},
   "source": [
    "## Running the analysis\n",
    "The **frequency ratio analysis** is performed on a list of **VRasters** and on a **LandslideMask**. These hold the grids of the analyzed data and the landslide mask.  \n",
    "\n",
    "You have to create an **FRAnalysis** object from the rasters and the mask to perform the analysis. This object will store all the data produced during the analysis.  \n",
    "\n",
    "- **ls_mask** : The LandslideMask for the analysis\n",
    "- **var_list** : The list of the VRasters to analyze"
   ]
  },
  {
   "cell_type": "code",
   "execution_count": null,
   "metadata": {},
   "outputs": [],
   "source": [
    "fra = FRAnalysis(ls_mask=scarps,\n",
    "                 var_list=[slope,\n",
    "                           geology,\n",
    "                           elevation]\n",
    "                 )"
   ]
  },
  {
   "cell_type": "markdown",
   "metadata": {},
   "source": [
    "The **frequency ratios** and the **reclassified frequency ratio grids** are computed on the creation of the **FRAnalysis** object. The statistics are stored in the **fr_stats_full** property of the object. The reclassified grids are stored in the **rc_folds** property.  \n",
    "Let's check the statistics for the slope layer."
   ]
  },
  {
   "cell_type": "code",
   "execution_count": null,
   "metadata": {},
   "outputs": [],
   "source": [
    "fra.fr_stats_full['slope'][0]"
   ]
  },
  {
   "cell_type": "markdown",
   "metadata": {},
   "source": [
    "You can also plot the statistics. Change 'slope' to 'elevation' or 'geology_14' to check the other layers."
   ]
  },
  {
   "cell_type": "code",
   "execution_count": null,
   "metadata": {},
   "outputs": [],
   "source": [
    "slope_plot = fra.plot_var_fold_fr('geology_14', 0)"
   ]
  },
  {
   "cell_type": "markdown",
   "metadata": {},
   "source": [
    "### Susceptibility grid\n",
    "The susceptibility grid is computed by averaging the reclassified grids. You have to call the get_result function of the FRAnalysis to compute the susceptibility grid and some other related data.  \n",
    "Let's compute and plot the susceptibility estimates."
   ]
  },
  {
   "cell_type": "code",
   "execution_count": null,
   "metadata": {},
   "outputs": [],
   "source": [
    "result_percentile_bins = fra.get_result()\n",
    "show_grid(fra.fold_susceptibility[0], nodata=-99999, name=\"Susceptibility\")"
   ]
  },
  {
   "cell_type": "markdown",
   "metadata": {},
   "source": [
    "The results are also available in a percentile form. In the percentile form, X means that X% of the pixels in the study area have lower susceptibility than pixels with X susceptibility. Eg. 90% of the pixels have lower susceptibility than pixels in the 90th percentile.  \n",
    "Plot the percentile grid."
   ]
  },
  {
   "cell_type": "code",
   "execution_count": null,
   "metadata": {},
   "outputs": [],
   "source": [
    "show_grid(fra.fold_percentiles[0], nodata=-99999, name=\"Susceptibility - percentiles\")"
   ]
  },
  {
   "cell_type": "markdown",
   "metadata": {},
   "source": [
    "## Cross-validation\n",
    "*Scientists need a way (or more) to test the correctness of their findings. In our case,  we'd like to see if the areas with high landslide susceptibility scores are actually prone to landslides or not. To get the most accurate measurement, we'd have to wait several years and evaluate the results with exhaustive ground checks on the field. In the meantime, we have to work with the already available data to get information about the accuracy of the results.*  \n",
    "\n",
    "The **frmod** script uses k-fold cross validation with random splits to evaluate the results.\n",
    "1. The landslide area is split into equal sized parts, called splits.\n",
    "2. One part is attached to the non-landslide area, these are the validation pixels\n",
    "3. The result of the analysis is evaluated by checking the number of validation pixels in the different susceptibility categories\n",
    "4. This process is then repeated with each split\n",
    "5. The final susceptibility estimates are the average of the results of the runs with the different splits\n",
    "\n",
    "The cross-validation is always used during the analysis. The splits are created with the LandslideMask.  \n",
    "The results you have just computed were the results with the first split. You can plot the distribution of the validation pixels in the susceptibility categories for the first split.  \n",
    "To check the results, just run the code below."
   ]
  },
  {
   "cell_type": "code",
   "execution_count": null,
   "metadata": {},
   "outputs": [],
   "source": [
    "fig, ax = plt.subplots()\n",
    "plt.title(\"Susceptibility distribution of validation pixels\")\n",
    "ax.set_xlabel(\"Susceptibility, percentile\")\n",
    "ax.set_ylabel(\"Proportion of validation pixels, %\")\n",
    "d = ax.plot(fra.v_dist[0] * 100, drawstyle=\"steps-mid\")\n",
    "ax.set_xlim(left=0, right=100)\n",
    "ax.set_ylim(bottom=0)"
   ]
  },
  {
   "cell_type": "markdown",
   "metadata": {},
   "source": [
    "The results are considered more accurate when a higher number of validation pixels fall into the higher susceptibility categories. It would be the best if only validation pixels would be in the highest susceptibility categories.\n",
    "#### Metrics - Success rate curve\n",
    "The cumulative sum of the distribution above is called the success rate curve. It shows the proportion of validation pixels that fall into or below a certain susceptibility category.  \n",
    "Let's compute and plot this curve for all splits by calling the get_src() and plot_success_rates() function of our FRAnalysis."
   ]
  },
  {
   "cell_type": "code",
   "execution_count": null,
   "metadata": {},
   "outputs": [],
   "source": [
    "success_rates = fra.get_src()\n",
    "fig_sr, ax_sr = fra.plot_success_rates()"
   ]
  },
  {
   "cell_type": "markdown",
   "metadata": {},
   "source": [
    "#### Metrics - Area under the success rate curve\n",
    "The accuracy of the model can be measured by the area under the cumulative distribution curve. Our aim is to have most of the validation landslide pixels in the high susceptibility categories, ie. to get the area under the cumulative distribution curve as small as possible.  \n",
    "The area under the curve (AUC) is computed by the get_auc() function of our FRAnalysis class object. The function prints the **AUC** values for all splits along with the mean and the standard deviation of the scores."
   ]
  },
  {
   "cell_type": "code",
   "execution_count": null,
   "metadata": {},
   "outputs": [],
   "source": [
    "auc_folds = fra.get_auc()"
   ]
  },
  {
   "cell_type": "markdown",
   "metadata": {},
   "source": [
    "If you would like to experiment with the analysis, you can change some parameters and run it again. Try to get a better score than the current one."
   ]
  },
  {
   "cell_type": "markdown",
   "metadata": {},
   "source": [
    "## The final result\n",
    "The analysis is performed with cross-validation that produces one susceptibility grid for each split. The final result of the analysis is the average of the susceptibility grids, converted into the percentile form. Compute and plot it with the get_percentile_grid(show=True) function."
   ]
  },
  {
   "cell_type": "code",
   "execution_count": null,
   "metadata": {},
   "outputs": [],
   "source": [
    "fra.get_percentile_grid(show=True)"
   ]
  },
  {
   "cell_type": "markdown",
   "metadata": {},
   "source": [
    "## Output\n",
    "The frmod package stores the results and the related statistics in the corresponding FRAnalysis object. It is possible to plot or export the created data with a set of functions. This way you can analyze or view the results elsewhere.  \n",
    "\n",
    "frmod's utils module has a set of function for reading and writing raster grids.  \n",
    "The **array2raster()** is used to save the 2D arrays (grids) that we produced during the analysis. The function needs 3 parameters + 1 optional parameter:\n",
    "- **raster_fn** : Path to the raster used as a sample. The function copies the characterictics (shape, resolution, projection, nodata) of this raster to the new raster\n",
    "- **new_raster_fn** : Path and name of the new raster\n",
    "- **array** : The array to save\n",
    "- **driver** : A GDAL raster driver, eg. *'GTiff'*\n",
    "\n",
    "Save the final percentile susceptibility grid with it."
   ]
  },
  {
   "cell_type": "code",
   "execution_count": null,
   "metadata": {},
   "outputs": [],
   "source": [
    "from frmod.utils import array2raster\n",
    "array2raster(raster_fn='./data/SRTM31_EG_GF_Slope_m.sdat',\n",
    "             new_raster_fn='./output/percentile_susceptibility.tif',\n",
    "             array=fra.percentile_grid, driver='GTiff'\n",
    "            )"
   ]
  },
  {
   "cell_type": "markdown",
   "metadata": {},
   "source": [
    "The success rate curves can also be saved to a csv file:\n",
    "- **folder** : Path to the output folder. The default is \"./output/\".\n",
    "- **fname** : Output filename with extension. The default is \"src.csv\"."
   ]
  },
  {
   "cell_type": "code",
   "execution_count": null,
   "metadata": {},
   "outputs": [],
   "source": [
    "fra.save_src(folder='./output/', fname='success_rates.csv')"
   ]
  },
  {
   "cell_type": "markdown",
   "metadata": {},
   "source": [
    "The save_stats function of the FRAnalysis object saves the frequency ratios for each analyzed layer and split to csv files.\n",
    "- **folder** : Path to the output folder. The default is \"./output/\".\n",
    "- **tag** : Tag inserted to the beginning of the file name. The default is \"\".\n"
   ]
  },
  {
   "cell_type": "code",
   "execution_count": null,
   "metadata": {},
   "outputs": [],
   "source": [
    "fra.save_stats(tag=\"notebook_output\")"
   ]
  },
  {
   "cell_type": "markdown",
   "metadata": {},
   "source": [
    "The statistics with the landslide and non-landslide distributions and the frequency ratios are stored in the fr_stats_full dictionary of the FRanalysis. The keys are the name properties of the VRasters. The items are lists with one pandas.DataFrame for each fold's statistics. You can use the built-in methods of pandas for saving these statistics."
   ]
  },
  {
   "cell_type": "code",
   "execution_count": null,
   "metadata": {},
   "outputs": [],
   "source": [
    "import pandas as pd\n",
    "fra.fr_stats_full['slope'][0].to_csv('./output/fr_stats_slope_1.csv')"
   ]
  }
 ],
 "metadata": {
  "kernelspec": {
   "display_name": "Python 3",
   "language": "python",
   "name": "python3"
  },
  "language_info": {
   "codemirror_mode": {
    "name": "ipython",
    "version": 3
   },
   "file_extension": ".py",
   "mimetype": "text/x-python",
   "name": "python",
   "nbconvert_exporter": "python",
   "pygments_lexer": "ipython3",
   "version": "3.7.7"
  }
 },
 "nbformat": 4,
 "nbformat_minor": 4
}
